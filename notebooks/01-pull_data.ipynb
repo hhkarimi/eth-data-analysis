{
 "cells": [
  {
   "cell_type": "markdown",
   "id": "b7bce6c1-121a-449f-9381-117c745cbd53",
   "metadata": {},
   "source": [
    "Collecting data from different sources for a set of addresses (we can provide you with sample addresses but feel free to find interesting groups of wallets\n",
    "which are publicly available); \n",
    "\n",
    "the data to be collected by the list of wallets will\n",
    "include transactions, tokentransfers, balance/token balance"
   ]
  },
  {
   "cell_type": "code",
   "execution_count": 1,
   "id": "d73559af-5185-4d6b-96e6-9c087325bc0d",
   "metadata": {},
   "outputs": [],
   "source": [
    "## import libraries\n",
    "import numpy as np\n",
    "import os\n",
    "import pandas as pd\n",
    "import requests\n",
    "import sys\n",
    "import time"
   ]
  },
  {
   "cell_type": "code",
   "execution_count": 2,
   "id": "831996ef-20eb-4ad9-b508-6f2cc0a46801",
   "metadata": {},
   "outputs": [],
   "source": [
    "## import configuration\n",
    "sys.path.append('..')\n",
    "from config.addresses import addresses"
   ]
  },
  {
   "cell_type": "code",
   "execution_count": 3,
   "id": "23a4cf40-87a7-47fe-9368-0b4f8a9396d9",
   "metadata": {},
   "outputs": [],
   "source": [
    "## etherscan API\n",
    "etherscan_api_url = 'https://api.etherscan.io/api'\n",
    "with open('../config/etherscan_api.tkn') as tkn_file:\n",
    "    etherscan_token = tkn_file.read()\n",
    "    \n",
    "balance_request = '?module=account&action=balance&address={address}&tag=latest&apikey={etherscan_token}'\n",
    "transaction_request = '?module=account&action=txlist&address={address}&startblock=0&endblock=99999999' \\\n",
    "    '&page=1&offset=10000&sort=desc&apikey={etherscan_token}'"
   ]
  },
  {
   "cell_type": "code",
   "execution_count": 4,
   "id": "17ea05de-b512-421f-8eff-4962a7f27fc4",
   "metadata": {},
   "outputs": [],
   "source": [
    "## accounts dataframe\n",
    "data = pd.DataFrame(columns=['Name', 'Address', 'CurrentBalanceEth'])\n",
    "\n",
    "# current balance\n",
    "for name, address in addresses.items():\n",
    "    current_balance = requests.get(\n",
    "        etherscan_api_url + balance_request.format(address=address, etherscan_token=etherscan_token)) \\\n",
    "        .json()['result']\n",
    "    data = data.append({'Name': name,\n",
    "                        'Address': address,\n",
    "                        'CurrentBalanceWei': int(current_balance),\n",
    "                       }, ignore_index=True)"
   ]
  },
  {
   "cell_type": "code",
   "execution_count": 5,
   "id": "d3aee977-65de-45ed-acaf-95b0a89cc3f2",
   "metadata": {
    "tags": []
   },
   "outputs": [
    {
     "name": "stdout",
     "output_type": "stream",
     "text": [
      "0x05a56e2d52c817161883f50c441c3228cfe54d9f\n",
      "0x514910771af9ca656af840dff83e8264ecf986ca\n",
      "0x1f9840a85d5af5bf1d1762f925bdaddc4201f984\n",
      "0xeB2629a2734e272Bcc07BDA959863f316F4bD4Cf\n",
      "0x53d284357ec70cE289D6D64134DfAc8E511c8a3D\n",
      "0x00000000219ab540356cbb839cbe05303d7705fa\n",
      "0xC02aaA39b223FE8D0A0e5C4F27eAD9083C756Cc2\n",
      "0x0c54FcCd2e384b4BB6f2E405Bf5Cbc15a017AaFb\n",
      "0xde0B295669a9FD93d5F28D9Ec85E40f4cb697BAe\n",
      "0x7813C776cD8EAb537028b4499d467b1f1B86b14C\n",
      "0xedDF0Df82006a477C87C2E16FfdEF0d97631E941\n",
      "0x9f966149B7Dd6AB61440Ec4D4B853f4605739E73\n",
      "0x630163B84674B2B404fB6036A510574F259c5Cb7\n",
      "0x724D08F4688Cda05d8e3243db9Db1B20C90f3a05\n",
      "0x5C3d1309D8b6e37EFF9FD6C258e1544549b39D22\n",
      "0x4bE991B4d560BBa8308110Ed1E0D7F8dA60ACf6A\n",
      "0x6a1Ef9bF93048533c49a1Eed984c080608f7DB6A\n",
      "0xdC182F6E7461Fe1fE442665615aA44F70f978Db3\n",
      "0xe4E345594375B54F395B54C41bD8b370A302bf69\n",
      "0x06812A2035BDa4707107539725902e065622CEE7\n",
      "0x8093150EC164753994A1F65616E04Ae92a9Ef8c5\n",
      "0x29236dFcae0aEE2D6da157F3B6835830c75875Ad\n",
      "0x33CCa8E7420114dB103d61bd39A72ff65E46352D\n",
      "0x7009033C0d6702fd2dfAD3478d2AE4e3b6aCB966\n",
      "0x5259AA3b262B3390EEef0A6E7b89C08d60c94622\n",
      "0x989B836D68700DA948B5c04A65b3bBA39F400ad7\n"
     ]
    }
   ],
   "source": [
    "## get all transactions (API limits to 10,000 results)\n",
    "transactions_df = pd.DataFrame()\n",
    "start_time = time.time()\n",
    "for name, address in addresses.items():\n",
    "    transactions = requests.get(\n",
    "        etherscan_api_url \\\n",
    "        + transaction_request.format(address=address, etherscan_token=etherscan_token)) \\\n",
    "        .json()['result']\n",
    "    for transaction in transactions:\n",
    "        transactions_df = transactions_df.append({\n",
    "            'from': transaction['from'],\n",
    "            'to': transaction['to'],\n",
    "            'timeStamp': transaction['timeStamp'],\n",
    "            'value': transaction['value'],\n",
    "            'contractAddress': transaction['contractAddress']\n",
    "            }, ignore_index=True)\n",
    "    print(address)\n",
    "end_time = time.time()"
   ]
  },
  {
   "cell_type": "code",
   "execution_count": 6,
   "id": "62449891-ccdc-462a-8955-b3a0c3d25117",
   "metadata": {},
   "outputs": [
    {
     "data": {
      "text/plain": [
       "'0x989B836D68700DA948B5c04A65b3bBA39F400ad7'"
      ]
     },
     "execution_count": 6,
     "metadata": {},
     "output_type": "execute_result"
    }
   ],
   "source": [
    "address"
   ]
  },
  {
   "cell_type": "code",
   "execution_count": 7,
   "id": "c5ae67ff-81c1-4371-97c5-5b990a3c0d53",
   "metadata": {},
   "outputs": [
    {
     "name": "stdout",
     "output_type": "stream",
     "text": [
      "Time to obtain last 10,000 transactions for each account: 9.79 minutes\n"
     ]
    }
   ],
   "source": [
    "print(\"Time to obtain last 10,000 transactions for each account: {:0.2f} minutes\".format( (end_time-start_time)/60 ))"
   ]
  },
  {
   "cell_type": "code",
   "execution_count": 8,
   "id": "332bd077-9eb2-46a4-9d80-f5f5b7f548f6",
   "metadata": {},
   "outputs": [
    {
     "data": {
      "text/html": [
       "<div>\n",
       "<style scoped>\n",
       "    .dataframe tbody tr th:only-of-type {\n",
       "        vertical-align: middle;\n",
       "    }\n",
       "\n",
       "    .dataframe tbody tr th {\n",
       "        vertical-align: top;\n",
       "    }\n",
       "\n",
       "    .dataframe thead th {\n",
       "        text-align: right;\n",
       "    }\n",
       "</style>\n",
       "<table border=\"1\" class=\"dataframe\">\n",
       "  <thead>\n",
       "    <tr style=\"text-align: right;\">\n",
       "      <th></th>\n",
       "      <th>from</th>\n",
       "      <th>to</th>\n",
       "      <th>timeStamp</th>\n",
       "      <th>value</th>\n",
       "      <th>contractAddress</th>\n",
       "    </tr>\n",
       "  </thead>\n",
       "  <tbody>\n",
       "    <tr>\n",
       "      <th>0</th>\n",
       "      <td>0x4c549990a7ef3fea8784406c1eecc98bf4211fa5</td>\n",
       "      <td>0x05a56e2d52c817161883f50c441c3228cfe54d9f</td>\n",
       "      <td>1605819070</td>\n",
       "      <td>1229528978404428</td>\n",
       "      <td></td>\n",
       "    </tr>\n",
       "    <tr>\n",
       "      <th>1</th>\n",
       "      <td>0x3b4a51b7ce963f67eff60d8b9a7748fea93bd9a4</td>\n",
       "      <td>0x05a56e2d52c817161883f50c441c3228cfe54d9f</td>\n",
       "      <td>1555768341</td>\n",
       "      <td>100000000000000</td>\n",
       "      <td></td>\n",
       "    </tr>\n",
       "    <tr>\n",
       "      <th>2</th>\n",
       "      <td>0x3b4a51b7ce963f67eff60d8b9a7748fea93bd9a4</td>\n",
       "      <td>0x05a56e2d52c817161883f50c441c3228cfe54d9f</td>\n",
       "      <td>1555767462</td>\n",
       "      <td>100000000000000</td>\n",
       "      <td></td>\n",
       "    </tr>\n",
       "    <tr>\n",
       "      <th>3</th>\n",
       "      <td>0x0975629a80cf23d706358093891b655e1267bb17</td>\n",
       "      <td>0x05a56e2d52c817161883f50c441c3228cfe54d9f</td>\n",
       "      <td>1547295564</td>\n",
       "      <td>20000000000000000</td>\n",
       "      <td></td>\n",
       "    </tr>\n",
       "    <tr>\n",
       "      <th>4</th>\n",
       "      <td>0xb5fb6e595568b53115c4fea8f3ef005d908bf17d</td>\n",
       "      <td>0x05a56e2d52c817161883f50c441c3228cfe54d9f</td>\n",
       "      <td>1547295205</td>\n",
       "      <td>1000000000000000</td>\n",
       "      <td></td>\n",
       "    </tr>\n",
       "    <tr>\n",
       "      <th>...</th>\n",
       "      <td>...</td>\n",
       "      <td>...</td>\n",
       "      <td>...</td>\n",
       "      <td>...</td>\n",
       "      <td>...</td>\n",
       "    </tr>\n",
       "    <tr>\n",
       "      <th>101060</th>\n",
       "      <td>0x501698a6f6f762c79e4d28e3815c135e3f9af996</td>\n",
       "      <td>0x989b836d68700da948b5c04a65b3bba39f400ad7</td>\n",
       "      <td>1612992337</td>\n",
       "      <td>0</td>\n",
       "      <td></td>\n",
       "    </tr>\n",
       "    <tr>\n",
       "      <th>101061</th>\n",
       "      <td>0x0699a397c3cf614c9a7db23a4be28fc4c8f3a755</td>\n",
       "      <td>0x989b836d68700da948b5c04a65b3bba39f400ad7</td>\n",
       "      <td>1612988554</td>\n",
       "      <td>0</td>\n",
       "      <td></td>\n",
       "    </tr>\n",
       "    <tr>\n",
       "      <th>101062</th>\n",
       "      <td>0x536ee6348b3790ec74c21fcbe3d990066e9b8ec7</td>\n",
       "      <td>0x989b836d68700da948b5c04a65b3bba39f400ad7</td>\n",
       "      <td>1612976921</td>\n",
       "      <td>0</td>\n",
       "      <td></td>\n",
       "    </tr>\n",
       "    <tr>\n",
       "      <th>101063</th>\n",
       "      <td>0x536ee6348b3790ec74c21fcbe3d990066e9b8ec7</td>\n",
       "      <td>0x989b836d68700da948b5c04a65b3bba39f400ad7</td>\n",
       "      <td>1612976781</td>\n",
       "      <td>0</td>\n",
       "      <td></td>\n",
       "    </tr>\n",
       "    <tr>\n",
       "      <th>101064</th>\n",
       "      <td>0x536ee6348b3790ec74c21fcbe3d990066e9b8ec7</td>\n",
       "      <td></td>\n",
       "      <td>1612976551</td>\n",
       "      <td>0</td>\n",
       "      <td>0x989b836d68700da948b5c04a65b3bba39f400ad7</td>\n",
       "    </tr>\n",
       "  </tbody>\n",
       "</table>\n",
       "<p>101065 rows × 5 columns</p>\n",
       "</div>"
      ],
      "text/plain": [
       "                                              from  \\\n",
       "0       0x4c549990a7ef3fea8784406c1eecc98bf4211fa5   \n",
       "1       0x3b4a51b7ce963f67eff60d8b9a7748fea93bd9a4   \n",
       "2       0x3b4a51b7ce963f67eff60d8b9a7748fea93bd9a4   \n",
       "3       0x0975629a80cf23d706358093891b655e1267bb17   \n",
       "4       0xb5fb6e595568b53115c4fea8f3ef005d908bf17d   \n",
       "...                                            ...   \n",
       "101060  0x501698a6f6f762c79e4d28e3815c135e3f9af996   \n",
       "101061  0x0699a397c3cf614c9a7db23a4be28fc4c8f3a755   \n",
       "101062  0x536ee6348b3790ec74c21fcbe3d990066e9b8ec7   \n",
       "101063  0x536ee6348b3790ec74c21fcbe3d990066e9b8ec7   \n",
       "101064  0x536ee6348b3790ec74c21fcbe3d990066e9b8ec7   \n",
       "\n",
       "                                                to   timeStamp  \\\n",
       "0       0x05a56e2d52c817161883f50c441c3228cfe54d9f  1605819070   \n",
       "1       0x05a56e2d52c817161883f50c441c3228cfe54d9f  1555768341   \n",
       "2       0x05a56e2d52c817161883f50c441c3228cfe54d9f  1555767462   \n",
       "3       0x05a56e2d52c817161883f50c441c3228cfe54d9f  1547295564   \n",
       "4       0x05a56e2d52c817161883f50c441c3228cfe54d9f  1547295205   \n",
       "...                                            ...         ...   \n",
       "101060  0x989b836d68700da948b5c04a65b3bba39f400ad7  1612992337   \n",
       "101061  0x989b836d68700da948b5c04a65b3bba39f400ad7  1612988554   \n",
       "101062  0x989b836d68700da948b5c04a65b3bba39f400ad7  1612976921   \n",
       "101063  0x989b836d68700da948b5c04a65b3bba39f400ad7  1612976781   \n",
       "101064                                              1612976551   \n",
       "\n",
       "                    value                             contractAddress  \n",
       "0        1229528978404428                                              \n",
       "1         100000000000000                                              \n",
       "2         100000000000000                                              \n",
       "3       20000000000000000                                              \n",
       "4        1000000000000000                                              \n",
       "...                   ...                                         ...  \n",
       "101060                  0                                              \n",
       "101061                  0                                              \n",
       "101062                  0                                              \n",
       "101063                  0                                              \n",
       "101064                  0  0x989b836d68700da948b5c04a65b3bba39f400ad7  \n",
       "\n",
       "[101065 rows x 5 columns]"
      ]
     },
     "execution_count": 8,
     "metadata": {},
     "output_type": "execute_result"
    }
   ],
   "source": [
    "## join balance with transaction dataset on from and to of account address\n",
    "transactions_df"
   ]
  },
  {
   "cell_type": "code",
   "execution_count": 9,
   "id": "3f0fac7d-81f8-4c7e-9125-1b27e6f39c8f",
   "metadata": {},
   "outputs": [],
   "source": [
    "##transactions[0]"
   ]
  },
  {
   "cell_type": "code",
   "execution_count": 10,
   "id": "c5a9e628-d278-4629-890b-e6e4a9d0e4d1",
   "metadata": {},
   "outputs": [
    {
     "data": {
      "text/plain": [
       "{'blockNumber': '13093580',\n",
       " 'timeStamp': '1629881375',\n",
       " 'hash': '0xc72dff267877228c3a7d340b15e17396128f58e1f7038246fe45065057ba1a2d',\n",
       " 'nonce': '255579',\n",
       " 'blockHash': '0xb2ff69ab63520af9159bebd7b0130363063449ff038bc2c810814e3dc54a8a54',\n",
       " 'transactionIndex': '104',\n",
       " 'from': '0xc7310123914f624da9c376f8ec590055e62733c1',\n",
       " 'to': '0x989b836d68700da948b5c04a65b3bba39f400ad7',\n",
       " 'value': '0',\n",
       " 'gas': '500000',\n",
       " 'gasPrice': '83000000000',\n",
       " 'isError': '0',\n",
       " 'txreceipt_status': '1',\n",
       " 'input': '0x202ee0ed000000000000000000000000000000000000000000000000000000000000029300000000000000000000000000000000000000000000000001b47f638f78d84a',\n",
       " 'contractAddress': '',\n",
       " 'cumulativeGasUsed': '4792088',\n",
       " 'gasUsed': '111204',\n",
       " 'confirmations': '8750'}"
      ]
     },
     "execution_count": 10,
     "metadata": {},
     "output_type": "execute_result"
    }
   ],
   "source": [
    "transactions[1]"
   ]
  },
  {
   "cell_type": "code",
   "execution_count": 11,
   "id": "40388d8f-6fbc-459a-b453-7c5dff4a6216",
   "metadata": {},
   "outputs": [
    {
     "data": {
      "text/plain": [
       "'0x989B836D68700DA948B5c04A65b3bBA39F400ad7'"
      ]
     },
     "execution_count": 11,
     "metadata": {},
     "output_type": "execute_result"
    }
   ],
   "source": [
    "address"
   ]
  },
  {
   "cell_type": "code",
   "execution_count": null,
   "id": "39be92d4-be6d-4625-9bfc-59e4fbd4fd90",
   "metadata": {},
   "outputs": [],
   "source": []
  }
 ],
 "metadata": {
  "kernelspec": {
   "display_name": "datascience",
   "language": "python",
   "name": "datascience"
  },
  "language_info": {
   "codemirror_mode": {
    "name": "ipython",
    "version": 3
   },
   "file_extension": ".py",
   "mimetype": "text/x-python",
   "name": "python",
   "nbconvert_exporter": "python",
   "pygments_lexer": "ipython3",
   "version": "3.9.6"
  }
 },
 "nbformat": 4,
 "nbformat_minor": 5
}
