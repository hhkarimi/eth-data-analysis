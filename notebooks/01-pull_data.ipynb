{
 "cells": [
  {
   "cell_type": "markdown",
   "id": "b7bce6c1-121a-449f-9381-117c745cbd53",
   "metadata": {},
   "source": [
    "Collecting data from different sources for a set of addresses (we can provide you with sample addresses but feel free to find interesting groups of wallets\n",
    "which are publicly available); \n",
    "\n",
    "the data to be collected by the list of wallets will\n",
    "include transactions, tokentransfers, balance/token balance"
   ]
  },
  {
   "cell_type": "code",
   "execution_count": 1,
   "id": "d73559af-5185-4d6b-96e6-9c087325bc0d",
   "metadata": {},
   "outputs": [],
   "source": [
    "## import libraries\n",
    "import numpy as np\n",
    "import os\n",
    "import pandas as pd\n",
    "import requests\n",
    "import sys\n",
    "import time"
   ]
  },
  {
   "cell_type": "code",
   "execution_count": 2,
   "id": "831996ef-20eb-4ad9-b508-6f2cc0a46801",
   "metadata": {},
   "outputs": [],
   "source": [
    "## import configuration\n",
    "sys.path.append('..')\n",
    "from config.addresses import addresses\n",
    "from config.tokens import tokens"
   ]
  },
  {
   "cell_type": "code",
   "execution_count": 3,
   "id": "23a4cf40-87a7-47fe-9368-0b4f8a9396d9",
   "metadata": {},
   "outputs": [],
   "source": [
    "## etherscan API\n",
    "etherscan_api_url = 'https://api.etherscan.io/api'\n",
    "with open('../config/etherscan_api.tkn') as tkn_file:\n",
    "    etherscan_token = tkn_file.read()\n",
    "    \n",
    "balance_request = '?module=account' \\\n",
    "    '&action=balance' \\\n",
    "    '&address={address}' \\\n",
    "    '&tag=latest' \\\n",
    "    '&apikey={etherscan_token}'\n",
    "\n",
    "normal_transaction_request = '?module=account' \\\n",
    "    '&action=txlist' \\\n",
    "    '&address={address}' \\\n",
    "    '&startblock=0' \\\n",
    "    '&endblock=99999999' \\\n",
    "    '&page=1' \\\n",
    "    '&offset=10000' \\\n",
    "    '&sort=desc' \\\n",
    "    '&apikey={etherscan_token}'\n",
    "\n",
    "internal_transaction_request = '?module=account' \\\n",
    "    '&action=txlistinternal' \\\n",
    "    '&address={address}' \\\n",
    "    '&startblock=0' \\\n",
    "    '&endblock=99999999' \\\n",
    "    '&page=1' \\\n",
    "    '&offset=10000' \\\n",
    "    '&sort=desc' \\\n",
    "    '&apikey={etherscan_token}'\n",
    "\n",
    "token_transaction_request = '?module=account' \\\n",
    "    '&action=tokentx' \\\n",
    "    '&address={address}' \\\n",
    "    '&page=1' \\\n",
    "    '&offset=10000' \\\n",
    "    '&sort=asc' \\\n",
    "    '&apikey={etherscan_token}'\n",
    "\n",
    "NFT_transaction_request = '?module=account' \\\n",
    "    '&action=tokennfttx' \\\n",
    "    '&address={address}' \\\n",
    "    '&page=1' \\\n",
    "    '&offset=10000' \\\n",
    "    '&sort=asc' \\\n",
    "    '&apikey={etherscan_token}'\n",
    "\n",
    "mined_blocks_request = '?module=account' \\\n",
    "    '&action=getminedblocks' \\\n",
    "    '&address={address}' \\\n",
    "    '&blocktype=blocks' \\\n",
    "    '&page=1' \\\n",
    "    '&offset=10000' \\\n",
    "    '&apikey={etherscan_token}'\n",
    "\n",
    "token_balance_request = '?module=account' \\\n",
    "    '&action=tokenbalance' \\\n",
    "    '&address={address}' \\\n",
    "    '&contractaddress={contract_address}' \\\n",
    "    '&tag=latest' \\\n",
    "    '&apikey={etherscan_token}'"
   ]
  },
  {
   "cell_type": "code",
   "execution_count": 4,
   "id": "17ea05de-b512-421f-8eff-4962a7f27fc4",
   "metadata": {},
   "outputs": [],
   "source": [
    "## accounts balances dataframe\n",
    "balances = pd.DataFrame(columns=['Name', 'Address', 'CurrentBalanceEth'])\n",
    "\n",
    "# current balance\n",
    "for name, address in addresses.items():\n",
    "    current_balance = requests.get(\n",
    "        etherscan_api_url + balance_request.format(address=address, etherscan_token=etherscan_token)) \\\n",
    "        .json()['result']\n",
    "    balances = balances.append({\n",
    "        'Name': name,\n",
    "        'Address': address,\n",
    "        'CurrentBalanceWei': int(current_balance),\n",
    "        'lastedUpdated': int(time.time()),\n",
    "        }, ignore_index=True)\n",
    "    time.sleep(0.2)"
   ]
  },
  {
   "cell_type": "code",
   "execution_count": 5,
   "id": "e3ee2aad-87c6-4906-86d1-b1cc641c338e",
   "metadata": {},
   "outputs": [],
   "source": [
    "balances.to_csv('../data/balances.csv', index=False, header=True)"
   ]
  },
  {
   "cell_type": "code",
   "execution_count": 6,
   "id": "d3aee977-65de-45ed-acaf-95b0a89cc3f2",
   "metadata": {
    "tags": []
   },
   "outputs": [],
   "source": [
    "## get normal transactions (API limits to 10,000 results)\n",
    "normal_transactions_df = pd.DataFrame()\n",
    "start_time = time.time()\n",
    "for name, address in addresses.items():\n",
    "    normal_transactions = requests.get(\n",
    "        etherscan_api_url \\\n",
    "        + normal_transaction_request.format(address=address, etherscan_token=etherscan_token)) \\\n",
    "        .json()['result']\n",
    "    for transaction in normal_transactions:\n",
    "        normal_transactions_df = normal_transactions_df.append({\n",
    "            'Name': name,\n",
    "            'Address': address,\n",
    "            'From': transaction['from'],\n",
    "            'To': transaction['to'],\n",
    "            'TransactionHash': transaction['hash'],\n",
    "            'Timestamp': transaction['timeStamp'],\n",
    "            'Value': transaction['value'],\n",
    "            'ContractAddress': transaction['contractAddress']\n",
    "            }, ignore_index=True)\n",
    "    time.sleep(0.2)\n",
    "end_time = time.time()"
   ]
  },
  {
   "cell_type": "code",
   "execution_count": 7,
   "id": "c5ae67ff-81c1-4371-97c5-5b990a3c0d53",
   "metadata": {},
   "outputs": [
    {
     "name": "stdout",
     "output_type": "stream",
     "text": [
      "Time to obtain last 10,000 normal transactions for each account: 12.90 minutes\n"
     ]
    }
   ],
   "source": [
    "print(\"Time to obtain last 10,000 normal transactions for each account: {:0.2f} minutes\".format( (end_time-start_time)/60 ))"
   ]
  },
  {
   "cell_type": "code",
   "execution_count": 8,
   "id": "332bd077-9eb2-46a4-9d80-f5f5b7f548f6",
   "metadata": {},
   "outputs": [],
   "source": [
    "normal_transactions_df.to_csv('../data/normal_transaction.csv', index=False, header=True)"
   ]
  },
  {
   "cell_type": "code",
   "execution_count": 9,
   "id": "39be92d4-be6d-4625-9bfc-59e4fbd4fd90",
   "metadata": {},
   "outputs": [],
   "source": [
    "## get internal transactions (API limits to 10,000 results)\n",
    "internal_transactions_df = pd.DataFrame()\n",
    "start_time = time.time()\n",
    "for name, address in addresses.items():\n",
    "    internal_transactions = requests.get(\n",
    "        etherscan_api_url \\\n",
    "        + internal_transaction_request.format(address=address, etherscan_token=etherscan_token)) \\\n",
    "        .json()['result']\n",
    "    for transaction in internal_transactions:\n",
    "        internal_transactions_df = internal_transactions_df.append({\n",
    "            'Name': name,\n",
    "            'Address': address,\n",
    "            'From': transaction['from'],\n",
    "            'To': transaction['to'],\n",
    "            'TransactionHash': transaction['hash'],\n",
    "            'Timestamp': transaction['timeStamp'],\n",
    "            'Value': transaction['value'],\n",
    "            'ContractAddress': transaction['contractAddress']\n",
    "            }, ignore_index=True)\n",
    "    time.sleep(0.2)\n",
    "end_time = time.time()"
   ]
  },
  {
   "cell_type": "code",
   "execution_count": 10,
   "id": "f02233fc-4a81-4645-86ff-5844b5b270f3",
   "metadata": {},
   "outputs": [
    {
     "name": "stdout",
     "output_type": "stream",
     "text": [
      "Time to obtain last 10,000 internal transactions for each account: 1.54 minutes\n"
     ]
    }
   ],
   "source": [
    "print(\"Time to obtain last 10,000 internal transactions for each account: {:0.2f} minutes\".format( (end_time-start_time)/60 ))"
   ]
  },
  {
   "cell_type": "code",
   "execution_count": 11,
   "id": "78368325-971f-4c80-bd55-3133821ba187",
   "metadata": {},
   "outputs": [],
   "source": [
    "internal_transactions_df.to_csv('../data/internal_transactions.csv', index=False, header=True)"
   ]
  },
  {
   "cell_type": "code",
   "execution_count": 12,
   "id": "73dcb94a-c41e-45c9-afe2-3a63af884e9c",
   "metadata": {},
   "outputs": [],
   "source": [
    "## get token transactions (API limits to 10,000 results)\n",
    "token_transactions_df = pd.DataFrame()\n",
    "start_time = time.time()\n",
    "for name, address in addresses.items():\n",
    "    token_transactions = requests.get(\n",
    "        etherscan_api_url \\\n",
    "        + token_transaction_request.format(address=address, etherscan_token=etherscan_token)) \\\n",
    "        .json()['result']\n",
    "    for transaction in token_transactions:\n",
    "        token_transactions_df = token_transactions_df.append({\n",
    "            'Name': name,\n",
    "            'Address': address,\n",
    "            'From': transaction['from'],\n",
    "            'To': transaction['to'],\n",
    "            'TransactionHash': transaction['hash'],\n",
    "            'Timestamp': transaction['timeStamp'],\n",
    "            'Value': transaction['value'],\n",
    "            'ContractAddress': transaction['contractAddress'],\n",
    "            'TokenName': transaction['tokenName'],\n",
    "            'TokenSymbol': transaction['tokenSymbol'],\n",
    "            }, ignore_index=True)\n",
    "    time.sleep(0.2)\n",
    "end_time = time.time()"
   ]
  },
  {
   "cell_type": "code",
   "execution_count": 13,
   "id": "ec466839-fdc7-4ae9-8b82-5c9bab2e5a27",
   "metadata": {},
   "outputs": [
    {
     "name": "stdout",
     "output_type": "stream",
     "text": [
      "Time to obtain last 10,000 token transactions for each account: 1.65 minutes\n"
     ]
    }
   ],
   "source": [
    "print(\"Time to obtain last 10,000 token transactions for each account: {:0.2f} minutes\".format( (end_time-start_time)/60 ))"
   ]
  },
  {
   "cell_type": "code",
   "execution_count": 14,
   "id": "6384d6cb-aacb-42bf-aa45-2481cb5a555c",
   "metadata": {},
   "outputs": [],
   "source": [
    "token_transactions_df.to_csv('../data/token_transactions.csv', index=False, header=True)"
   ]
  },
  {
   "cell_type": "code",
   "execution_count": 15,
   "id": "bae2e12c-4d1a-4eb4-b6a8-0cc6aab7c07a",
   "metadata": {},
   "outputs": [],
   "source": [
    "## get NFT transactions (API limits to 10,000 results)\n",
    "NFT_transactions_df = pd.DataFrame()\n",
    "start_time = time.time()\n",
    "for name, address in addresses.items():\n",
    "    NFT_transactions = requests.get(\n",
    "        etherscan_api_url \\\n",
    "        + NFT_transaction_request.format(address=address, etherscan_token=etherscan_token)) \\\n",
    "        .json()['result']\n",
    "    for transaction in NFT_transactions:\n",
    "        NFT_transactions_df = NFT_transactions_df.append({\n",
    "            'Name': name,\n",
    "            'Address': address,\n",
    "            'From': transaction['from'],\n",
    "            'To': transaction['to'],\n",
    "            'TransactionHash': transaction['hash'],\n",
    "            'Timestamp': transaction['timeStamp'],\n",
    "            'TokenID': transaction['tokenID'],\n",
    "            'ContractAddress': transaction['contractAddress'],\n",
    "            'TokenName': transaction['tokenName'],\n",
    "            'TokenSymbol': transaction['tokenSymbol'],\n",
    "            }, ignore_index=True)\n",
    "    time.sleep(0.2)\n",
    "end_time = time.time()"
   ]
  },
  {
   "cell_type": "code",
   "execution_count": 16,
   "id": "7a34d8a5-8a58-40d1-90d8-7b936bd18a77",
   "metadata": {},
   "outputs": [
    {
     "name": "stdout",
     "output_type": "stream",
     "text": [
      "Time to obtain last 10,000 NFT transactions for each account: 0.22 minutes\n"
     ]
    }
   ],
   "source": [
    "print(\"Time to obtain last 10,000 NFT transactions for each account: {:0.2f} minutes\".format( (end_time-start_time)/60 ))"
   ]
  },
  {
   "cell_type": "code",
   "execution_count": 17,
   "id": "186b1029-b8aa-415a-b5cc-f41678b02c27",
   "metadata": {},
   "outputs": [],
   "source": [
    "NFT_transactions_df.to_csv('../data/NFT_transaction.csv', index=False, header=True)"
   ]
  },
  {
   "cell_type": "code",
   "execution_count": 18,
   "id": "6c68224e-5292-4223-b4a6-0c6625e40818",
   "metadata": {},
   "outputs": [],
   "source": [
    "## get mined blocks (API limits to 10,000 results)\n",
    "mined_blocks_df = pd.DataFrame()\n",
    "start_time = time.time()\n",
    "for name, address in addresses.items():\n",
    "    mined_blocks = requests.get(\n",
    "        etherscan_api_url \\\n",
    "        + mined_blocks_request.format(address=address, etherscan_token=etherscan_token)) \\\n",
    "        .json()['result']\n",
    "    for mined_block in mined_blocks:\n",
    "        mined_blocks_df = mined_blocks_df.append({\n",
    "            'Name': name,\n",
    "            'Address': address,\n",
    "            'BlockNumber': mined_block['blockNumber'],\n",
    "            'TimeSatamp': mined_block['timeStamp'],\n",
    "            'BlockReward': mined_block['blockReward'],\n",
    "            }, ignore_index=True)\n",
    "    time.sleep(0.2)\n",
    "end_time = time.time()"
   ]
  },
  {
   "cell_type": "code",
   "execution_count": 19,
   "id": "8ee60bb2-a21d-425c-a419-2ed4ecd849fa",
   "metadata": {},
   "outputs": [],
   "source": [
    "## get token balances (API limits to 10,000 results)\n",
    "token_balances_df = pd.DataFrame()\n",
    "start_time = time.time()\n",
    "for name, address in addresses.items():\n",
    "    for token_symbol, token_contract_address in tokens.items():\n",
    "        \n",
    "        token_balance = requests.get(\n",
    "            etherscan_api_url \\\n",
    "            + token_balance_request.format(\n",
    "                address=address, contract_address=token_contract_address, etherscan_token=etherscan_token)) \\\n",
    "            .json()['result']\n",
    "            \n",
    "        token_balances_df = token_balances_df.append({\n",
    "            'Name': name,\n",
    "            'Address': address,\n",
    "            'TokenSymbol': token_symbol,\n",
    "            'TokenBalance': int(token_balance),\n",
    "                }, ignore_index=True)\n",
    "    time.sleep(0.2)\n",
    "    \n",
    "token_balances_df['TokenBalance'] = token_balances_df['TokenBalance'].apply(int)\n",
    "end_time = time.time()"
   ]
  },
  {
   "cell_type": "code",
   "execution_count": 20,
   "id": "6fa05d28-246c-41e5-9ed1-771f18863116",
   "metadata": {},
   "outputs": [
    {
     "name": "stdout",
     "output_type": "stream",
     "text": [
      "Time to obtain token balances for each account: 0.50 minutes\n"
     ]
    }
   ],
   "source": [
    "print(\"Time to obtain token balances for each account: {:0.2f} minutes\".format( (end_time-start_time)/60 ))"
   ]
  },
  {
   "cell_type": "code",
   "execution_count": 21,
   "id": "0753036c-bfb6-48a7-8543-7b0600802959",
   "metadata": {},
   "outputs": [],
   "source": [
    "token_balances_df.to_csv('../data/token_balances.csv', index=False, header=True)"
   ]
  },
  {
   "cell_type": "code",
   "execution_count": null,
   "id": "64c309dc-584d-40ae-9fbd-082d71256459",
   "metadata": {},
   "outputs": [],
   "source": []
  }
 ],
 "metadata": {
  "kernelspec": {
   "display_name": "datascience",
   "language": "python",
   "name": "datascience"
  },
  "language_info": {
   "codemirror_mode": {
    "name": "ipython",
    "version": 3
   },
   "file_extension": ".py",
   "mimetype": "text/x-python",
   "name": "python",
   "nbconvert_exporter": "python",
   "pygments_lexer": "ipython3",
   "version": "3.9.6"
  }
 },
 "nbformat": 4,
 "nbformat_minor": 5
}
