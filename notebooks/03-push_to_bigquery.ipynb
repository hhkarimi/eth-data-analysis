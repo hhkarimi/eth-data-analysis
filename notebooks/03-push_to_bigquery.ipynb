{
 "cells": [
  {
   "cell_type": "code",
   "execution_count": 1,
   "id": "8ac444fb-4a2d-4a42-802c-76cd04486e26",
   "metadata": {},
   "outputs": [],
   "source": [
    "## import libraries\n",
    "from google.cloud import bigquery\n",
    "from google.api_core.exceptions import Conflict\n",
    "import os\n",
    "import pandas as pd"
   ]
  },
  {
   "cell_type": "code",
   "execution_count": 2,
   "id": "cba0e60a-59ab-47d7-8121-c45c277b8842",
   "metadata": {},
   "outputs": [],
   "source": [
    "## load data\n",
    "link_transactions = pd.read_csv('../data/link_transactions.csv')"
   ]
  },
  {
   "cell_type": "code",
   "execution_count": 3,
   "id": "2a24afc9-c952-48f8-8d8c-dac437f337b9",
   "metadata": {},
   "outputs": [],
   "source": [
    "## drop integer values and rename columns with floats\n",
    "link_transactions.drop(columns=['TransactionFeeEth', 'SignedValue', 'RunningBalance'], inplace=True)\n",
    "link_transactions['TransactionIndex'] = link_transactions['TransactionIndex'].astype(int)\n",
    "link_transactions['Value'] = link_transactions['Value'].astype('float64')/10**18\n",
    "link_transactions.rename(inplace=True, columns={\n",
    "    'TransactionFeeEthDecimal': 'TransactionFeeEth',\n",
    "    'SignedValueDecimal': 'SignedValue',\n",
    "    'RunningBalanceDecimal': 'RunningBalance'})"
   ]
  },
  {
   "cell_type": "code",
   "execution_count": 4,
   "id": "701f0b31-19ad-4522-85a2-e241a24b8c24",
   "metadata": {},
   "outputs": [],
   "source": [
    "## set up bigquery table\n",
    "# set credentials\n",
    "os.environ['GOOGLE_APPLICATION_CREDENTIALS'] = '../gcloud_service_creds.json'\n",
    "\n",
    "# construct a BigQuery client object\n",
    "client = bigquery.Client()"
   ]
  },
  {
   "cell_type": "code",
   "execution_count": 5,
   "id": "dac87200-9329-4d5f-b118-39dcf5dbd341",
   "metadata": {},
   "outputs": [
    {
     "name": "stdout",
     "output_type": "stream",
     "text": [
      "Dataset banded-charmer-324215.transactions already exists.\n",
      "Table banded-charmer-324215.transactions.link_transactions already exists.\n"
     ]
    }
   ],
   "source": [
    "## create bq table\n",
    "\n",
    "# define schema\n",
    "schema = [\n",
    "    bigquery.SchemaField(\"Name\", \"STRING\", mode=\"REQUIRED\"),\n",
    "    bigquery.SchemaField(\"Address\", \"STRING\", mode=\"REQUIRED\"),\n",
    "    bigquery.SchemaField(\"From\", \"STRING\", mode=\"REQUIRED\"),\n",
    "    bigquery.SchemaField(\"To\", \"STRING\", mode=\"REQUIRED\"),\n",
    "    bigquery.SchemaField(\"ContractAddress\", \"STRING\", mode=\"REQUIRED\"),\n",
    "    bigquery.SchemaField(\"TransactionHash\", \"STRING\", mode=\"REQUIRED\"),\n",
    "    bigquery.SchemaField(\"TransactionIndex\", \"INTEGER\", mode=\"REQUIRED\"),\n",
    "    bigquery.SchemaField(\"TokenName\", \"STRING\", mode=\"REQUIRED\"),\n",
    "    bigquery.SchemaField(\"TokenSymbol\", \"STRING\", mode=\"REQUIRED\"),\n",
    "    bigquery.SchemaField(\"Inbound\", \"INTEGER\", mode=\"REQUIRED\"),\n",
    "    bigquery.SchemaField(\"Outbound\", \"INTEGER\", mode=\"REQUIRED\"),\n",
    "    bigquery.SchemaField(\"Timestamp\", \"TIMESTAMP\", mode=\"REQUIRED\"),\n",
    "    bigquery.SchemaField(\"Value\", \"BIGNUMERIC\", mode=\"REQUIRED\"),\n",
    "    bigquery.SchemaField(\"SignedValue\", \"BIGNUMERIC\", mode=\"REQUIRED\"),\n",
    "    bigquery.SchemaField(\"RunningBalance\", \"BIGNUMERIC\", mode=\"REQUIRED\"),\n",
    "    bigquery.SchemaField(\"TransactionFeeEth\", \"BIGNUMERIC\", mode=\"REQUIRED\"),\n",
    "]\n",
    "\n",
    "# first create a project (banded-charmer-324215) in the console\n",
    "project_name = 'banded-charmer-324215'\n",
    "\n",
    "# create bigquery dataset\n",
    "dataset_name = 'transactions'\n",
    "try:\n",
    "    client.create_dataset(dataset_name)\n",
    "    print(\"Created dataset {}.{}\".format(project_name, dataset_name))\n",
    "except Conflict as c:\n",
    "    print(\"Dataset {}.{} already exists.\".format(project_name, dataset_name))\n",
    "\n",
    "# create table\n",
    "table_id = \"{}.{}.link_transactions\".format(project_name, dataset_name)\n",
    "table = bigquery.Table(table_id, schema=schema)\n",
    "try:\n",
    "    table = client.create_table(table)\n",
    "    print(\"Created table {}.{}.{}\".format(table.project, table.dataset_id, table.table_id))\n",
    "except Conflict as c:\n",
    "    print(\"Table {}.{}.{} already exists.\".format(table.project, table.dataset_id, table.table_id))"
   ]
  },
  {
   "cell_type": "code",
   "execution_count": 6,
   "id": "b195c163-b9f2-409b-ad73-6ac35b516ca1",
   "metadata": {},
   "outputs": [],
   "source": [
    "## push data to bigquery table\n",
    "\n",
    "# set dataframe columns to match order of defined schema\n",
    "link_transactions = link_transactions[[x.name for x in schema]]\n",
    "\n",
    "# create bigquery load job\n",
    "job_config = bigquery.LoadJobConfig(\n",
    "    schema=schema,\n",
    "    write_disposition=\"WRITE_APPEND\",\n",
    "    source_format=bigquery.SourceFormat.CSV,\n",
    "    autodetect=True\n",
    ")\n",
    "\n",
    "bq_source_file = '../data/link_transactions_bq.csv'\n",
    "link_transactions.to_csv(bq_source_file, index=False, header=True)"
   ]
  },
  {
   "cell_type": "code",
   "execution_count": 7,
   "id": "f3e18b01-cd2e-40d5-a8df-0c0454939f49",
   "metadata": {},
   "outputs": [
    {
     "name": "stdout",
     "output_type": "stream",
     "text": [
      "Loaded 3206 rows into banded-charmer-324215.transactions.link_transactions.\n"
     ]
    }
   ],
   "source": [
    "## load the csv into bigquery\n",
    "\n",
    "with open(bq_source_file, \"rb\") as source_file:\n",
    "    job = client.load_table_from_file(source_file, table_id, job_config=job_config)\n",
    "\n",
    "job.result()\n",
    "print(\"Loaded {} rows into {}.{}.{}.\".format(\n",
    "    job.output_rows, table.project, table.dataset_id, table.table_id))"
   ]
  },
  {
   "cell_type": "code",
   "execution_count": null,
   "id": "be6f6f91-516b-4c04-be92-7867118b5634",
   "metadata": {},
   "outputs": [],
   "source": [
    "## confirm data in bigquery\n",
    "query = \"\"\"\n",
    "    SELECT * \n",
    "    FROM {}.{}.{}\n",
    "    LIMIT 50000\n",
    "    \"\"\".format(table.project, table.dataset_id, table.table_id)\n",
    "query_results = client.query(query)\n",
    "\n",
    "results_df = pd.DataFrame()\n",
    "for row in query_results.result():\n",
    "    sample = {}\n",
    "    for key, value in row.items():\n",
    "        sample[key] = value\n",
    "    results_df = results_df.append(sample, ignore_index=True)\n",
    "\n",
    "print(f\"There are a total of {len(results_df)} rows in the table.\")"
   ]
  },
  {
   "cell_type": "code",
   "execution_count": null,
   "id": "cb47767d-08a5-4d86-b2a8-f1700469287b",
   "metadata": {},
   "outputs": [],
   "source": [
    "## query to deduplicate (necessary for ETL cycles until block height limits are set in etherscan API call)\n",
    "query = \"\"\"\n",
    "    CREATE OR REPLACE TABLE `{table_project}.{table_dataset_id}.{table_id}` AS\n",
    "    SELECT \n",
    "        {columns_in_schema}\n",
    "    FROM (\n",
    "      SELECT\n",
    "          *,\n",
    "         ROW_NUMBER()\n",
    "              OVER (PARTITION BY Address, `From`, `To`, Value, TransactionHash, TransactionIndex)\n",
    "              AS rn\n",
    "      FROM {table_project}.{table_dataset_id}.{table_id}\n",
    "    )\n",
    "    WHERE rn = 1\n",
    "\"\"\".format(columns_in_schema=(\",\").join([f\"`{x.name}`\" for x in schema]),\n",
    "           table_project=table.project,\n",
    "           table_dataset_id=table.dataset_id,\n",
    "           table_id=table.table_id\n",
    "          )\n",
    "\n",
    "query_results = client.query(query)"
   ]
  },
  {
   "cell_type": "code",
   "execution_count": null,
   "id": "2006c7a7-02e1-46fd-8f58-7e498b15b086",
   "metadata": {},
   "outputs": [],
   "source": [
    "for row in query_results.result():\n",
    "    for key, value in row.items():\n",
    "        print(key, value)\n",
    "    break"
   ]
  },
  {
   "cell_type": "code",
   "execution_count": null,
   "id": "e70492d4-413d-4b05-af80-302d5f3b125d",
   "metadata": {},
   "outputs": [],
   "source": [
    "## confirm data in bigquery\n",
    "query = \"\"\"\n",
    "    SELECT * \n",
    "    FROM {}.{}.{}\n",
    "    LIMIT 50000\n",
    "    \"\"\".format(table.project, table.dataset_id, table.table_id)\n",
    "query_results = client.query(query)\n",
    "\n",
    "results_df = pd.DataFrame()\n",
    "for row in query_results.result():\n",
    "    sample = {}\n",
    "    for key, value in row.items():\n",
    "        sample[key] = value\n",
    "    results_df = results_df.append(sample, ignore_index=True)\n",
    "\n",
    "print(f\"There are a total of {len(results_df)} rows in the table.\")"
   ]
  },
  {
   "cell_type": "code",
   "execution_count": null,
   "id": "f72e43de-39dd-41e9-950b-da86cde338e0",
   "metadata": {},
   "outputs": [],
   "source": []
  }
 ],
 "metadata": {
  "kernelspec": {
   "display_name": "datascience",
   "language": "python",
   "name": "datascience"
  },
  "language_info": {
   "codemirror_mode": {
    "name": "ipython",
    "version": 3
   },
   "file_extension": ".py",
   "mimetype": "text/x-python",
   "name": "python",
   "nbconvert_exporter": "python",
   "pygments_lexer": "ipython3",
   "version": "3.9.6"
  }
 },
 "nbformat": 4,
 "nbformat_minor": 5
}
